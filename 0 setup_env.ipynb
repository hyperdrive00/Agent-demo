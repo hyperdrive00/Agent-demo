{
 "cells": [
  {
   "cell_type": "markdown",
   "metadata": {},
   "source": [
    "# Python环境配置 (Python Environment Setup)\n",
    "\n",
    "本notebook用于配置Agent开发项目所需的Python环境和依赖包。"
   ]
  },
  {
   "cell_type": "markdown",
   "metadata": {
    "vscode": {
     "languageId": "raw"
    }
   },
   "source": [
    "## 1. 前置条件 (Prerequisites)"
   ]
  },
  {
   "cell_type": "code",
   "execution_count": null,
   "metadata": {},
   "outputs": [
    {
     "name": "stdout",
     "output_type": "stream",
     "text": [
      "Requirement already satisfied: pip in c:\\users\\hyper\\anaconda3\\envs\\litagent\\lib\\site-packages (25.1.1)\n",
      "Requirement already satisfied: uv in c:\\users\\hyper\\anaconda3\\envs\\litagent\\lib\\site-packages (0.7.20)\n"
     ]
    },
    {
     "name": "stderr",
     "output_type": "stream",
     "text": [
      "\u001b[2mUsing Python 3.12.11 environment at: C:\\Users\\HYPER\\anaconda3\\envs\\litagent\u001b[0m\n",
      "\u001b[2mResolved \u001b[1m127 packages\u001b[0m \u001b[2min 698ms\u001b[0m\u001b[0m\n",
      "\u001b[2mPrepared \u001b[1m1 package\u001b[0m \u001b[2min 0.55ms\u001b[0m\u001b[0m\n",
      "\u001b[2mUninstalled \u001b[1m1 package\u001b[0m \u001b[2min 2ms\u001b[0m\u001b[0m\n",
      "\u001b[2mInstalled \u001b[1m1 package\u001b[0m \u001b[2min 6ms\u001b[0m\u001b[0m\n",
      " \u001b[31m-\u001b[39m \u001b[1mpackaging\u001b[0m\u001b[2m==24.2\u001b[0m\n",
      " \u001b[32m+\u001b[39m \u001b[1mpackaging\u001b[0m\u001b[2m==25.0\u001b[0m\n",
      "\u001b[2mUsing Python 3.12.11 environment at: C:\\Users\\HYPER\\anaconda3\\envs\\litagent\u001b[0m\n",
      "\u001b[2mAudited \u001b[1m1 package\u001b[0m \u001b[2min 7ms\u001b[0m\u001b[0m\n",
      "\u001b[2mUsing Python 3.12.11 environment at: C:\\Users\\HYPER\\anaconda3\\envs\\litagent\u001b[0m\n",
      "\u001b[2mAudited \u001b[1m1 package\u001b[0m \u001b[2min 5ms\u001b[0m\u001b[0m\n",
      "\u001b[2mUsing Python 3.12.11 environment at: C:\\Users\\HYPER\\anaconda3\\envs\\litagent\u001b[0m\n",
      "\u001b[2mAudited \u001b[1m1 package\u001b[0m \u001b[2min 5ms\u001b[0m\u001b[0m\n",
      "\u001b[2mUsing Python 3.12.11 environment at: C:\\Users\\HYPER\\anaconda3\\envs\\litagent\u001b[0m\n",
      "\u001b[2mResolved \u001b[1m29 packages\u001b[0m \u001b[2min 13ms\u001b[0m\u001b[0m\n",
      "\u001b[2mUninstalled \u001b[1m1 package\u001b[0m \u001b[2min 2ms\u001b[0m\u001b[0m\n",
      "\u001b[2mInstalled \u001b[1m1 package\u001b[0m \u001b[2min 5ms\u001b[0m\u001b[0m\n",
      " \u001b[31m-\u001b[39m \u001b[1mpackaging\u001b[0m\u001b[2m==25.0\u001b[0m\n",
      " \u001b[32m+\u001b[39m \u001b[1mpackaging\u001b[0m\u001b[2m==24.2\u001b[0m\n",
      "\u001b[2mUsing Python 3.12.11 environment at: C:\\Users\\HYPER\\anaconda3\\envs\\litagent\u001b[0m\n",
      "\u001b[2mAudited \u001b[1m1 package\u001b[0m \u001b[2min 8ms\u001b[0m\u001b[0m\n",
      "\u001b[2mUsing Python 3.12.11 environment at: C:\\Users\\HYPER\\anaconda3\\envs\\litagent\u001b[0m\n",
      "\u001b[2mAudited \u001b[1m1 package\u001b[0m \u001b[2min 7ms\u001b[0m\u001b[0m\n",
      "\u001b[2mUsing Python 3.12.11 environment at: C:\\Users\\HYPER\\anaconda3\\envs\\litagent\u001b[0m\n",
      "\u001b[2mAudited \u001b[1m1 package\u001b[0m \u001b[2min 8ms\u001b[0m\u001b[0m\n",
      "\u001b[2mUsing Python 3.12.11 environment at: C:\\Users\\HYPER\\anaconda3\\envs\\litagent\u001b[0m\n",
      "\u001b[2mAudited \u001b[1m1 package\u001b[0m \u001b[2min 6ms\u001b[0m\u001b[0m\n",
      "\u001b[2mUsing Python 3.12.11 environment at: C:\\Users\\HYPER\\anaconda3\\envs\\litagent\u001b[0m\n",
      "\u001b[2mAudited \u001b[1m1 package\u001b[0m \u001b[2min 5ms\u001b[0m\u001b[0m\n",
      "\u001b[2mUsing Python 3.12.11 environment at: C:\\Users\\HYPER\\anaconda3\\envs\\litagent\u001b[0m\n",
      "\u001b[2mAudited \u001b[1m1 package\u001b[0m \u001b[2min 6ms\u001b[0m\u001b[0m\n",
      "\u001b[2mUsing Python 3.12.11 environment at: C:\\Users\\HYPER\\anaconda3\\envs\\litagent\u001b[0m\n",
      "\u001b[2mAudited \u001b[1m1 package\u001b[0m \u001b[2min 5ms\u001b[0m\u001b[0m\n",
      "\u001b[2mUsing Python 3.12.11 environment at: C:\\Users\\HYPER\\anaconda3\\envs\\litagent\u001b[0m\n",
      "\u001b[2mAudited \u001b[1m1 package\u001b[0m \u001b[2min 4ms\u001b[0m\u001b[0m\n",
      "\u001b[2mUsing Python 3.12.11 environment at: C:\\Users\\HYPER\\anaconda3\\envs\\litagent\u001b[0m\n",
      "\u001b[2mResolved \u001b[1m38 packages\u001b[0m \u001b[2min 630ms\u001b[0m\u001b[0m\n",
      "\u001b[36m\u001b[1mDownloading\u001b[0m\u001b[39m pydeck \u001b[2m(6.6MiB)\u001b[0m\n",
      "\u001b[36m\u001b[1mDownloading\u001b[0m\u001b[39m pyarrow \u001b[2m(24.5MiB)\u001b[0m\n",
      "\u001b[36m\u001b[1mDownloading\u001b[0m\u001b[39m streamlit \u001b[2m(9.6MiB)\u001b[0m\n",
      " \u001b[32m\u001b[1mDownloading\u001b[0m\u001b[39m pydeck\n",
      " \u001b[32m\u001b[1mDownloading\u001b[0m\u001b[39m streamlit\n",
      " \u001b[32m\u001b[1mDownloading\u001b[0m\u001b[39m pyarrow\n",
      "\u001b[2mPrepared \u001b[1m16 packages\u001b[0m \u001b[2min 1.23s\u001b[0m\u001b[0m\n",
      "\u001b[2mInstalled \u001b[1m16 packages\u001b[0m \u001b[2min 179ms\u001b[0m\u001b[0m\n",
      " \u001b[32m+\u001b[39m \u001b[1maltair\u001b[0m\u001b[2m==5.5.0\u001b[0m\n",
      " \u001b[32m+\u001b[39m \u001b[1mblinker\u001b[0m\u001b[2m==1.9.0\u001b[0m\n",
      " \u001b[32m+\u001b[39m \u001b[1mcachetools\u001b[0m\u001b[2m==6.1.0\u001b[0m\n",
      " \u001b[32m+\u001b[39m \u001b[1mgitdb\u001b[0m\u001b[2m==4.0.12\u001b[0m\n",
      " \u001b[32m+\u001b[39m \u001b[1mgitpython\u001b[0m\u001b[2m==3.1.44\u001b[0m\n",
      " \u001b[32m+\u001b[39m \u001b[1mjsonschema\u001b[0m\u001b[2m==4.24.0\u001b[0m\n",
      " \u001b[32m+\u001b[39m \u001b[1mjsonschema-specifications\u001b[0m\u001b[2m==2025.4.1\u001b[0m\n",
      " \u001b[32m+\u001b[39m \u001b[1mnarwhals\u001b[0m\u001b[2m==1.46.0\u001b[0m\n",
      " \u001b[32m+\u001b[39m \u001b[1mpyarrow\u001b[0m\u001b[2m==20.0.0\u001b[0m\n",
      " \u001b[32m+\u001b[39m \u001b[1mpydeck\u001b[0m\u001b[2m==0.9.1\u001b[0m\n",
      " \u001b[32m+\u001b[39m \u001b[1mreferencing\u001b[0m\u001b[2m==0.36.2\u001b[0m\n",
      " \u001b[32m+\u001b[39m \u001b[1mrpds-py\u001b[0m\u001b[2m==0.26.0\u001b[0m\n",
      " \u001b[32m+\u001b[39m \u001b[1msmmap\u001b[0m\u001b[2m==5.0.2\u001b[0m\n",
      " \u001b[32m+\u001b[39m \u001b[1mstreamlit\u001b[0m\u001b[2m==1.46.1\u001b[0m\n",
      " \u001b[32m+\u001b[39m \u001b[1mtoml\u001b[0m\u001b[2m==0.10.2\u001b[0m\n",
      " \u001b[32m+\u001b[39m \u001b[1mwatchdog\u001b[0m\u001b[2m==6.0.0\u001b[0m\n"
     ]
    }
   ],
   "source": [
    "# 升级pip和安装包管理工具\n",
    "!pip install --upgrade pip\n",
    "!pip install uv\n",
    "!uv pip install ipykernel\n"
   ]
  },
  {
   "cell_type": "markdown",
   "metadata": {
    "vscode": {
     "languageId": "raw"
    }
   },
   "source": [
    "## 2. 安装MinerU (MinerU Installation)\n",
    "\n",
    "MinerU是一个强大的文档处理和OCR工具，支持PDF转换为Markdown格式。根据您的硬件配置选择合适的安装方式：\n",
    "https://github.com/opendatalab/MinerU\n",
    "### 选项A：CPU版本 (CPU Version)\n",
    "- 适用于没有NVIDIA GPU或不需要GPU加速的情况\n",
    "- 安装简单，兼容性好\n",
    "- 处理速度相对较慢\n",
    "\n",
    "### 选项B：CUDA版本 (CUDA Version)  \n",
    "- 适用于有NVIDIA GPU的情况\n",
    "- 需要先安装PyTorch CUDA支持\n",
    "- 处理速度更快，适合大量文档处理\n",
    "\n",
    "**请根据硬件配置选择其中一个选项执行：**"
   ]
  },
  {
   "cell_type": "code",
   "execution_count": null,
   "metadata": {},
   "outputs": [],
   "source": [
    "# 选项A：安装CPU版本的MinerU\n",
    "# 如果您没有NVIDIA GPU或不需要GPU加速，请执行此选项\n",
    "!uv pip install -U \"mineru[core]\"\n"
   ]
  },
  {
   "cell_type": "code",
   "execution_count": null,
   "metadata": {},
   "outputs": [],
   "source": [
    "# 选项B：安装CUDA版本的MinerU\n",
    "# 如果您有NVIDIA GPU并希望使用GPU加速，请执行此选项\n",
    "\n",
    "# 第一步：安装PyTorch CUDA支持\n",
    "# 请访问 https://pytorch.org/get-started/locally/ 选择适合您的CUDA版本\n",
    "# 例如，对于CUDA 11.8，使用以下命令：\n",
    "!uv pip install torch torchvision torchaudio --index-url https://download.pytorch.org/whl/cu118\n",
    "\n",
    "# 第二步：安装MinerU完整版本\n",
    "!uv pip install -U \"mineru[all]\""
   ]
  },
  {
   "cell_type": "markdown",
   "metadata": {
    "vscode": {
     "languageId": "raw"
    }
   },
   "source": [
    "## 3. LangChain 和 LangGraph 依赖 (LangChain & LangGraph Dependencies)\n",
    "安装AI代理开发所需的LangChain生态系统："
   ]
  },
  {
   "cell_type": "code",
   "execution_count": null,
   "metadata": {},
   "outputs": [],
   "source": [
    "# 安装LangChain和LangGraph依赖\n",
    "!uv pip install langchain\n",
    "!uv pip install langchain-openai\n",
    "!uv pip install langgraph\n",
    "!uv pip install langchain-community\n",
    "!uv pip install langsmith\n"
   ]
  },
  {
   "cell_type": "markdown",
   "metadata": {
    "vscode": {
     "languageId": "raw"
    }
   },
   "source": [
    "## 4. 其他附加包 (Additional Packages)\n"
   ]
  },
  {
   "cell_type": "code",
   "execution_count": 1,
   "metadata": {},
   "outputs": [
    {
     "name": "stderr",
     "output_type": "stream",
     "text": [
      "\u001b[2mUsing Python 3.12.11 environment at: C:\\Users\\HYPER\\anaconda3\\envs\\litagent\u001b[0m\n",
      "\u001b[2mAudited \u001b[1m1 package\u001b[0m \u001b[2min 6ms\u001b[0m\u001b[0m\n",
      "\u001b[2mUsing Python 3.12.11 environment at: C:\\Users\\HYPER\\anaconda3\\envs\\litagent\u001b[0m\n",
      "\u001b[2mAudited \u001b[1m1 package\u001b[0m \u001b[2min 4ms\u001b[0m\u001b[0m\n",
      "\u001b[2mUsing Python 3.12.11 environment at: C:\\Users\\HYPER\\anaconda3\\envs\\litagent\u001b[0m\n",
      "\u001b[2mAudited \u001b[1m1 package\u001b[0m \u001b[2min 4ms\u001b[0m\u001b[0m\n",
      "\u001b[2mUsing Python 3.12.11 environment at: C:\\Users\\HYPER\\anaconda3\\envs\\litagent\u001b[0m\n",
      "\u001b[2mAudited \u001b[1m1 package\u001b[0m \u001b[2min 4ms\u001b[0m\u001b[0m\n",
      "\u001b[2mUsing Python 3.12.11 environment at: C:\\Users\\HYPER\\anaconda3\\envs\\litagent\u001b[0m\n",
      "\u001b[2mAudited \u001b[1m1 package\u001b[0m \u001b[2min 4ms\u001b[0m\u001b[0m\n",
      "\u001b[2mUsing Python 3.12.11 environment at: C:\\Users\\HYPER\\anaconda3\\envs\\litagent\u001b[0m\n",
      "\u001b[2mAudited \u001b[1m1 package\u001b[0m \u001b[2min 5ms\u001b[0m\u001b[0m\n",
      "\u001b[2mUsing Python 3.12.11 environment at: C:\\Users\\HYPER\\anaconda3\\envs\\litagent\u001b[0m\n",
      "\u001b[2mAudited \u001b[1m1 package\u001b[0m \u001b[2min 4ms\u001b[0m\u001b[0m\n",
      "\u001b[2mUsing Python 3.12.11 environment at: C:\\Users\\HYPER\\anaconda3\\envs\\litagent\u001b[0m\n",
      "\u001b[2mAudited \u001b[1m1 package\u001b[0m \u001b[2min 157ms\u001b[0m\u001b[0m\n",
      "\u001b[2mUsing Python 3.12.11 environment at: C:\\Users\\HYPER\\anaconda3\\envs\\litagent\u001b[0m\n",
      "\u001b[2mAudited \u001b[1m1 package\u001b[0m \u001b[2min 4ms\u001b[0m\u001b[0m\n"
     ]
    }
   ],
   "source": [
    "# 安装其他附加包\n",
    "# For OpenAI integration\n",
    "!uv pip install openai\n",
    "!uv pip install tiktoken\n",
    "\n",
    "# For JSON handling\n",
    "!uv pip install jsonlines\n",
    "!uv pip install json_repair\n",
    "\n",
    "# For Excel file handling\n",
    "!uv pip install openpyxl\n",
    "!uv pip install pandas\n",
    "!uv pip install tabulate\n",
    "\n",
    "# For web application framework and HTTP requests\n",
    "!uv pip install streamlit\n",
    "!uv pip install requests"
   ]
  }
 ],
 "metadata": {
  "kernelspec": {
   "display_name": "litagent",
   "language": "python",
   "name": "python3"
  },
  "language_info": {
   "codemirror_mode": {
    "name": "ipython",
    "version": 3
   },
   "file_extension": ".py",
   "mimetype": "text/x-python",
   "name": "python",
   "nbconvert_exporter": "python",
   "pygments_lexer": "ipython3",
   "version": "3.12.11"
  }
 },
 "nbformat": 4,
 "nbformat_minor": 2
}
